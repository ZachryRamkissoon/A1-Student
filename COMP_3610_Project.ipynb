{
  "nbformat": 4,
  "nbformat_minor": 0,
  "metadata": {
    "colab": {
      "provenance": [],
      "include_colab_link": true
    },
    "kernelspec": {
      "name": "python3",
      "display_name": "Python 3"
    },
    "language_info": {
      "name": "python"
    }
  },
  "cells": [
    {
      "cell_type": "markdown",
      "metadata": {
        "id": "view-in-github",
        "colab_type": "text"
      },
      "source": [
        "<a href=\"https://colab.research.google.com/github/ZachryRamkissoon/A1-Student/blob/main/COMP_3610_Project.ipynb\" target=\"_parent\"><img src=\"https://colab.research.google.com/assets/colab-badge.svg\" alt=\"Open In Colab\"/></a>"
      ]
    },
    {
      "cell_type": "markdown",
      "source": [
        "Import Libraries"
      ],
      "metadata": {
        "id": "Ls4a_USPOald"
      }
    },
    {
      "cell_type": "code",
      "source": [
        "import pandas as pd\n",
        "import re\n",
        "import unicodedata"
      ],
      "metadata": {
        "id": "x7MCMPm7OeKu"
      },
      "execution_count": 1,
      "outputs": []
    },
    {
      "cell_type": "markdown",
      "source": [
        "#Data Collection\n",
        "Load the first CSV file containing years 2000-2024"
      ],
      "metadata": {
        "id": "xHTztbYGOg1b"
      }
    },
    {
      "cell_type": "code",
      "source": [
        "try:\n",
        "    df_spotify = pd.read_csv('billboard_24years_lyrics_spotify.csv', encoding='utf-8')\n",
        "except UnicodeDecodeError:\n",
        "    df_spotify = pd.read_csv('billboard_24years_lyrics_spotify.csv', encoding='latin1')"
      ],
      "metadata": {
        "id": "9xCWgzTsPF6_"
      },
      "execution_count": 2,
      "outputs": []
    },
    {
      "cell_type": "markdown",
      "source": [
        "Load the second CSV file containing years 1964-2015"
      ],
      "metadata": {
        "id": "Zu0rFqJCSDWl"
      }
    },
    {
      "cell_type": "code",
      "source": [
        "try:\n",
        "    df_1964_2015 = pd.read_csv('billboard_lyrics_1964-2015.csv', encoding='utf-8')\n",
        "except UnicodeDecodeError:\n",
        "    df_1964_2015 = pd.read_csv('billboard_lyrics_1964-2015.csv', encoding='latin1')"
      ],
      "metadata": {
        "id": "N9fzRpZCSDsH"
      },
      "execution_count": 3,
      "outputs": []
    },
    {
      "cell_type": "markdown",
      "source": [
        "#Data Preprocessing"
      ],
      "metadata": {
        "id": "7ZynI2YnTZ0T"
      }
    },
    {
      "cell_type": "markdown",
      "source": [
        "Filter for years 2016 to 2024"
      ],
      "metadata": {
        "id": "DSqaVEJDPJ_S"
      }
    },
    {
      "cell_type": "code",
      "source": [
        "df_spotify_filtered = df_spotify[df_spotify['year'].between(2016, 2024)].copy()"
      ],
      "metadata": {
        "id": "D-VjTYOhPKJd"
      },
      "execution_count": 4,
      "outputs": []
    },
    {
      "cell_type": "markdown",
      "source": [
        "Remove duplicate records based on all columns"
      ],
      "metadata": {
        "id": "BReRcbzmPSRc"
      }
    },
    {
      "cell_type": "code",
      "source": [
        "df_spotify_filtered = df_spotify_filtered.drop_duplicates()"
      ],
      "metadata": {
        "id": "dTMl-vioQVQz"
      },
      "execution_count": 5,
      "outputs": []
    },
    {
      "cell_type": "markdown",
      "source": [
        "Function to clean lyrics"
      ],
      "metadata": {
        "id": "v31qzSClQcFi"
      }
    },
    {
      "cell_type": "code",
      "source": [
        "def clean_lyrics_ascii(text):\n",
        "    if pd.isna(text):  # Handle missing values\n",
        "        return ''\n",
        "    text = text.lower() # Convert to lowercase\n",
        "\n",
        "    text = re.sub(r'[^\\x00-\\x7F]+', ' ', text) # Remove non-ASCII characters\n",
        "\n",
        "    text = re.sub(r'\\s*\\'\\s*', '', text) # Remove apostrophes and merge contractions\n",
        "\n",
        "    text = re.sub(r'[^a-z0-9\\s]', ' ', text) # Remove all punctuation except spaces, keep letters and numbers\n",
        "\n",
        "    text = re.sub(r'\\d+embed$', '', text) # Remove number followed by \"embed\" at the end\n",
        "\n",
        "    text = re.sub(r'\\s+', ' ', text).strip() # Replace multiple spaces with a single space and remove leading/trailing whitespace\n",
        "\n",
        "    return text\n",
        "\n",
        "df_spotify_filtered['lyrics_cleaned'] = df_spotify_filtered['lyrics'].apply(clean_lyrics_ascii)"
      ],
      "metadata": {
        "id": "xQQ_hUEJQbGn"
      },
      "execution_count": 6,
      "outputs": []
    },
    {
      "cell_type": "markdown",
      "source": [
        "Select and rename columns for consistency"
      ],
      "metadata": {
        "id": "7SfBhgKdRU50"
      }
    },
    {
      "cell_type": "code",
      "source": [
        "df_spotify_cleaned = df_spotify_filtered[['song', 'band_singer', 'year', 'ranking', 'lyrics_cleaned']]\n",
        "\n",
        "df_spotify_cleaned = df_spotify_cleaned.rename(columns={\n",
        "    'band_singer': 'artist'\n",
        "})"
      ],
      "metadata": {
        "id": "TC3idw3CRVxQ"
      },
      "execution_count": 7,
      "outputs": []
    },
    {
      "cell_type": "markdown",
      "source": [
        "Rename columns to match the first dataset"
      ],
      "metadata": {
        "id": "F4Cwhi7oS85r"
      }
    },
    {
      "cell_type": "code",
      "source": [
        "df_1964_2015 = df_1964_2015.rename(columns={\n",
        "    'Song': 'song',\n",
        "    'Artist': 'artist',\n",
        "    'Year': 'year',\n",
        "    'Rank': 'ranking',\n",
        "    'Lyrics': 'lyrics_cleaned'\n",
        "})"
      ],
      "metadata": {
        "id": "DOLWBsW8S94O"
      },
      "execution_count": 8,
      "outputs": []
    },
    {
      "cell_type": "markdown",
      "source": [
        "Select only the required columns"
      ],
      "metadata": {
        "id": "k-DnFr28TBz3"
      }
    },
    {
      "cell_type": "code",
      "source": [
        "df_1964_2015_cleaned = df_1964_2015[['song', 'artist', 'year', 'ranking', 'lyrics_cleaned']]"
      ],
      "metadata": {
        "id": "2B30YuytTCBh"
      },
      "execution_count": 9,
      "outputs": []
    },
    {
      "cell_type": "markdown",
      "source": [
        "Combine the datasets"
      ],
      "metadata": {
        "id": "DEfcr1qZTj1Q"
      }
    },
    {
      "cell_type": "code",
      "source": [
        "df_combined = pd.concat([df_1964_2015_cleaned, df_spotify_cleaned], ignore_index=True)"
      ],
      "metadata": {
        "id": "ee96PwPRTkNl"
      },
      "execution_count": 10,
      "outputs": []
    },
    {
      "cell_type": "markdown",
      "source": [
        "Remove duplicates across the combined dataset (based on all columns)"
      ],
      "metadata": {
        "id": "lvdp6KE7T-01"
      }
    },
    {
      "cell_type": "code",
      "source": [
        "df_combined = df_combined.drop_duplicates()"
      ],
      "metadata": {
        "id": "B9gPml7mT_EX"
      },
      "execution_count": 11,
      "outputs": []
    },
    {
      "cell_type": "markdown",
      "source": [
        "Inspect the first few rows of the combined DataFrame"
      ],
      "metadata": {
        "id": "uF3GhtMmU0u8"
      }
    },
    {
      "cell_type": "code",
      "source": [
        "print(\"Combined Cleaned DataFrame (First 5 rows):\")\n",
        "print(df_combined.head())\n",
        "print(\"\\nOriginal vs Cleaned Lyrics (First 5 rows from 2016-2024 data):\")\n",
        "for i in range(min(5, len(df_spotify_filtered))):\n",
        "    print(f\"Song: {df_spotify_filtered['song'].iloc[i]} (Year: {df_spotify_filtered['year'].iloc[i]}, Rank: {df_spotify_filtered['ranking'].iloc[i]})\")\n",
        "    print(f\"Original: {df_spotify_filtered['lyrics'].iloc[i]}\")\n",
        "    print(f\"Cleaned: {df_spotify_filtered['lyrics_cleaned'].iloc[i]}\")\n",
        "    print(\"-\" * 50)"
      ],
      "metadata": {
        "colab": {
          "base_uri": "https://localhost:8080/"
        },
        "id": "O-f9ISgmU1BV",
        "outputId": "baddb1cc-cc4d-430a-8448-826720e2336b"
      },
      "execution_count": 12,
      "outputs": [
        {
          "output_type": "stream",
          "name": "stdout",
          "text": [
            "Combined Cleaned DataFrame (First 5 rows):\n",
            "                                       song                         artist  \\\n",
            "0                               wooly bully  sam the sham and the pharaohs   \n",
            "1  i cant help myself sugar pie honey bunch                      four tops   \n",
            "2                i cant get no satisfaction             the rolling stones   \n",
            "3                       you were on my mind                        we five   \n",
            "4              youve lost that lovin feelin         the righteous brothers   \n",
            "\n",
            "   year  ranking                                     lyrics_cleaned  \n",
            "0  1965        1  sam the sham miscellaneous wooly bully wooly b...  \n",
            "1  1965        2   sugar pie honey bunch you know that i love yo...  \n",
            "2  1965        3                                                     \n",
            "3  1965        4   when i woke up this morning you were on my mi...  \n",
            "4  1965        5   you never close your eyes anymore when i kiss...  \n",
            "\n",
            "Original vs Cleaned Lyrics (First 5 rows from 2016-2024 data):\n",
            "Song: Love Yourself (Year: 2016, Rank: 1)\n",
            "Original: \n",
            "For all the times that you rained on my parade\n",
            "And all the clubs you get in using my name\n",
            "You think you broke my heart, oh girl, for goodness' sake\n",
            "You think I'm cryin' on my own, well, I ain't\n",
            "\n",
            "And I didn't wanna write a song\n",
            "'Cause I didn't want anyone thinking I still care\n",
            "I don't, but you still hit my phone up\n",
            "And baby, I'll be movin' on\n",
            "And I think you should be somethin' I don't wanna hold back\n",
            "Maybe you should know that\n",
            "\n",
            "My mama don't like you and she likes everyone\n",
            "And I never like to admit that I was wrong\n",
            "And I've been so caught up in my job, didn't see what's going on\n",
            "But now I know, I'm better sleeping on my own\n",
            "\n",
            "'Cause if you like the way you look that much\n",
            "Oh baby, you should go and love yourself\n",
            "And if you think that I'm still holdin' on to somethin'\n",
            "You should go and love yourself\n",
            "You might also like\n",
            "But when you told me that you hated my friends\n",
            "The only problem was with you and not them\n",
            "And every time you told me my opinion was wrong\n",
            "And tried to make me forget where I came from\n",
            "\n",
            "And I didn't wanna write a song\n",
            "'Cause I didn't want anyone thinking I still care\n",
            "I don't, but you still hit my phone up\n",
            "And baby, I'll be movin' on\n",
            "And I think you should be somethin' I don't wanna hold back\n",
            "Maybe you should know that\n",
            "\n",
            "My mama don't like you and she likes everyone\n",
            "And I never like to admit that I was wrong\n",
            "And I've been so caught up in my job, didn't see what's going on\n",
            "But now I know, I'm better sleeping on my own\n",
            "\n",
            "'Cause if you like the way you look that much\n",
            "Oh baby, you should go and love yourself\n",
            "And if you think that I'm still holdin' on to somethin'\n",
            "You should go and love yourself\n",
            "For all the times that you made me feel small\n",
            "I fell in love, now I feel nothin' at all\n",
            "I never felt so low and I was vulnerable\n",
            "Was I a fool to let you break down my walls?\n",
            "\n",
            "'Cause if you like the way you look that much\n",
            "Oh baby, you should go and love yourself\n",
            "And if you think that I'm still holdin' on to somethin'\n",
            "You should go and love yourself\n",
            "'Cause if you like the way you look that much\n",
            "Oh baby, you should go and love yourself\n",
            "And if you think that I'm still holdin' on to somethin'\n",
            "You should go and love yourself150Embed\n",
            "Cleaned: for all the times that you rained on my parade and all the clubs you get in using my name you think you broke my heart oh girl for goodnesssake you think im cryinon my own well i aint and i didnt wanna write a songcause i didnt want anyone thinking i still care i dont but you still hit my phone up and baby ill be movinon and i think you should be somethini dont wanna hold back maybe you should know that my mama dont like you and she likes everyone and i never like to admit that i was wrong and ive been so caught up in my job didnt see whats going on but now i know im better sleeping on my owncause if you like the way you look that much oh baby you should go and love yourself and if you think that im still holdinon to somethinyou should go and love yourself you might also like but when you told me that you hated my friends the only problem was with you and not them and every time you told me my opinion was wrong and tried to make me forget where i came from and i didnt wanna write a songcause i didnt want anyone thinking i still care i dont but you still hit my phone up and baby ill be movinon and i think you should be somethini dont wanna hold back maybe you should know that my mama dont like you and she likes everyone and i never like to admit that i was wrong and ive been so caught up in my job didnt see whats going on but now i know im better sleeping on my owncause if you like the way you look that much oh baby you should go and love yourself and if you think that im still holdinon to somethinyou should go and love yourself for all the times that you made me feel small i fell in love now i feel nothinat all i never felt so low and i was vulnerable was i a fool to let you break down my walls cause if you like the way you look that much oh baby you should go and love yourself and if you think that im still holdinon to somethinyou should go and love yourselfcause if you like the way you look that much oh baby you should go and love yourself and if you think that im still holdinon to somethinyou should go and love yourself\n",
            "--------------------------------------------------\n",
            "Song: Sorry (Year: 2016, Rank: 2)\n",
            "Original: \n",
            "You gotta go and get angry at all of my honesty\n",
            "You know I try, but I don't do too well with apologies\n",
            "I hope I don't run out of time, could someone call a referee?\n",
            "'Cause I just need one more shot at forgiveness\n",
            "I know you know that I made those mistakes maybe once or twice\n",
            "And by once or twice, I mean maybe a couple of hundred times\n",
            "So let me, oh, let me redeem, oh, redeem, oh, myself tonight\n",
            "'Cause I just need one more shot at second chances\n",
            "\n",
            "Yeah, is it too late now to say sorry?\n",
            "'Cause I'm missing more than just your body\n",
            "Oh, is it too late now to say sorry?\n",
            "Yeah, I know that I let you down\n",
            "Is it too late to say I'm sorry now?\n",
            "\n",
            "I'm sorry, yeah\n",
            "Sorry, yeah\n",
            "Sorry\n",
            "Yeah, I know that I let you down\n",
            "Is it too late to say I'm sorry now?\n",
            "You might also like\n",
            "I'll take every single piece of the blame if you want me to\n",
            "But you know that there is no innocent one in this game for two\n",
            "I'll go, I'll go and then you go, you go out and spill the truth\n",
            "Can we both say the words and forget this?\n",
            "\n",
            "Yeah, is it too late now to say sorry?\n",
            "'Cause I'm missing more than just your body\n",
            "Oh, is it too late now to say sorry?\n",
            "Yeah, I know that I let you down\n",
            "Is it too late to say I'm sorry now?\n",
            "I'm not just tryna get you back on me (Oh, no, no)\n",
            "'Cause I'm missing more than just your body (Your body)\n",
            "Oh, is it too late now to say sorry?\n",
            "Yeah, I know that I let you down\n",
            "Is it too late to say I'm sorry now?\n",
            "\n",
            "I'm sorry, yeah\n",
            "Sorry, oh\n",
            "Sorry\n",
            "Yeah, I know that I let you down (I know I let you down)\n",
            "Is it too late to say I'm sorry now?\n",
            "I'm sorry, yeah\n",
            "Sorry, oh\n",
            "Sorry\n",
            "Yeah, I know that I let you down (I know I let you down)\n",
            "Is it too late to say I'm sorry now?101Embed\n",
            "Cleaned: you gotta go and get angry at all of my honesty you know i try but i dont do too well with apologies i hope i dont run out of time could someone call a referee cause i just need one more shot at forgiveness i know you know that i made those mistakes maybe once or twice and by once or twice i mean maybe a couple of hundred times so let me oh let me redeem oh redeem oh myself tonightcause i just need one more shot at second chances yeah is it too late now to say sorry cause im missing more than just your body oh is it too late now to say sorry yeah i know that i let you down is it too late to say im sorry now im sorry yeah sorry yeah sorry yeah i know that i let you down is it too late to say im sorry now you might also like ill take every single piece of the blame if you want me to but you know that there is no innocent one in this game for two ill go ill go and then you go you go out and spill the truth can we both say the words and forget this yeah is it too late now to say sorry cause im missing more than just your body oh is it too late now to say sorry yeah i know that i let you down is it too late to say im sorry now im not just tryna get you back on me oh no no cause im missing more than just your body your body oh is it too late now to say sorry yeah i know that i let you down is it too late to say im sorry now im sorry yeah sorry oh sorry yeah i know that i let you down i know i let you down is it too late to say im sorry now im sorry yeah sorry oh sorry yeah i know that i let you down i know i let you down is it too late to say im sorry now\n",
            "--------------------------------------------------\n",
            "Song: One Dance (Year: 2016, Rank: 3)\n",
            "Original: Baby, I like your style\n",
            "\n",
            "Grips on your waist, front way, back way\n",
            "You know that I don't play\n",
            "Streets not safe but I never run away\n",
            "Even when I'm away\n",
            "Oti, oti\n",
            "There's never much love when we go OT\n",
            "I pray to make it back in one piece\n",
            "I pray, I pray\n",
            "\n",
            "That's why I need a one dance\n",
            "Got a Hennessy in my hand\n",
            "One more time 'fore I go\n",
            "Higher powers taking a hold on me\n",
            "I need a one dance\n",
            "Got a Hennessy in my hand\n",
            "One more time 'fore I go\n",
            "Higher powers taking a hold on me\n",
            "Baby, I like your style\n",
            "You might also like\n",
            "Strength and guidance\n",
            "All that I'm wishing for my friends\n",
            "Nobody makes it from my ends\n",
            "I had to bust up the silence\n",
            "You know you gotta stick by me\n",
            "Soon as you see the text, reply me\n",
            "I don't wanna spend time fighting\n",
            "We've got no time, and that's why\n",
            "\n",
            "I need a one dance\n",
            "Got a Hennessy in my hand\n",
            "One more time 'fore I go\n",
            "Higher powers taking a hold on me\n",
            "I need a one dance\n",
            "Got a Hennessy in my hand\n",
            "One more time 'fore I go\n",
            "Higher powers taking a hold on me\n",
            "\n",
            "Got a pretty girl and she love me long time\n",
            "Wine it, wine it, she love me long time\n",
            "Oh, yeah, very long time\n",
            "Back up, back up, back up, and wine am\n",
            "Back up, back up, and wine am, girl, just\n",
            "Back up, back up, back up, and wine am\n",
            "Oh, yeah, very long time\n",
            "Back, up, back up and wine am, girl\n",
            "Oh, tell me, I need to know\n",
            "Where do you wanna go?\n",
            "'Cause if you're down, I'll take it slow\n",
            "Make you lose control\n",
            "\n",
            "Where, where, where\n",
            "Where, where, where, where (Oh, yeah, very long time)\n",
            "Where, where, where (Back up, back up, and wine am, girl)\n",
            "Where, where, where, where\n",
            "'Cause if you're down (Back up, back up, and–)\n",
            "'Cause if you're down (Back up, back up, and–)\n",
            "'Cause if you're down (Back up, back up, and–)\n",
            "\n",
            "I need a one dance (Where, where, where)\n",
            "Got a Hennessy in my hand (Where, where, where, where)\n",
            "One more time 'fore I go (Where)\n",
            "Higher powers taking a hold on me (Where, where, where, where)\n",
            "I need a one dance\n",
            "Got a Hennessy in my hand\n",
            "One more time 'fore I go\n",
            "Higher powers taking a hold on me\n",
            "How do you spell \"Hennessy?\"\n",
            "I put two \"N\"s and two \"S\"es, is it like that? Hen... Henn... Henn...\n",
            "It's definitely not showing up\n",
            "I know \"Hennessy\" has two \"S\"es for sure, so I'm gonna take out one of the \"N\"s234Embed\n",
            "Cleaned: baby i like your style grips on your waist front way back way you know that i dont play streets not safe but i never run away even when im away oti oti theres never much love when we go ot i pray to make it back in one piece i pray i pray thats why i need a one dance got a hennessy in my hand one more timefore i go higher powers taking a hold on me i need a one dance got a hennessy in my hand one more timefore i go higher powers taking a hold on me baby i like your style you might also like strength and guidance all that im wishing for my friends nobody makes it from my ends i had to bust up the silence you know you gotta stick by me soon as you see the text reply me i dont wanna spend time fighting weve got no time and thats why i need a one dance got a hennessy in my hand one more timefore i go higher powers taking a hold on me i need a one dance got a hennessy in my hand one more timefore i go higher powers taking a hold on me got a pretty girl and she love me long time wine it wine it she love me long time oh yeah very long time back up back up back up and wine am back up back up and wine am girl just back up back up back up and wine am oh yeah very long time back up back up and wine am girl oh tell me i need to know where do you wanna go cause if youre down ill take it slow make you lose control where where where where where where where oh yeah very long time where where where back up back up and wine am girl where where where wherecause if youre down back up back up and cause if youre down back up back up and cause if youre down back up back up and i need a one dance where where where got a hennessy in my hand where where where where one more timefore i go where higher powers taking a hold on me where where where where i need a one dance got a hennessy in my hand one more timefore i go higher powers taking a hold on me how do you spell hennessy i put two n s and two s es is it like that hen henn henn its definitely not showing up i know hennessy has two s es for sure so im gonna take out one of the n s\n",
            "--------------------------------------------------\n",
            "Song: One Dance (Year: 2016, Rank: 3)\n",
            "Original: Baby, I like your style\n",
            "\n",
            "Grips on your waist, front way, back way\n",
            "You know that I don't play\n",
            "Streets not safe but I never run away\n",
            "Even when I'm away\n",
            "Oti, oti\n",
            "There's never much love when we go OT\n",
            "I pray to make it back in one piece\n",
            "I pray, I pray\n",
            "\n",
            "That's why I need a one dance\n",
            "Got a Hennessy in my hand\n",
            "One more time 'fore I go\n",
            "Higher powers taking a hold on me\n",
            "I need a one dance\n",
            "Got a Hennessy in my hand\n",
            "One more time 'fore I go\n",
            "Higher powers taking a hold on me\n",
            "Baby, I like your style\n",
            "You might also like\n",
            "Strength and guidance\n",
            "All that I'm wishing for my friends\n",
            "Nobody makes it from my ends\n",
            "I had to bust up the silence\n",
            "You know you gotta stick by me\n",
            "Soon as you see the text, reply me\n",
            "I don't wanna spend time fighting\n",
            "We've got no time, and that's why\n",
            "\n",
            "I need a one dance\n",
            "Got a Hennessy in my hand\n",
            "One more time 'fore I go\n",
            "Higher powers taking a hold on me\n",
            "I need a one dance\n",
            "Got a Hennessy in my hand\n",
            "One more time 'fore I go\n",
            "Higher powers taking a hold on me\n",
            "\n",
            "Got a pretty girl and she love me long time\n",
            "Wine it, wine it, she love me long time\n",
            "Oh, yeah, very long time\n",
            "Back up, back up, back up, and wine am\n",
            "Back up, back up, and wine am, girl, just\n",
            "Back up, back up, back up, and wine am\n",
            "Oh, yeah, very long time\n",
            "Back, up, back up and wine am, girl\n",
            "Oh, tell me, I need to know\n",
            "Where do you wanna go?\n",
            "'Cause if you're down, I'll take it slow\n",
            "Make you lose control\n",
            "\n",
            "Where, where, where\n",
            "Where, where, where, where (Oh, yeah, very long time)\n",
            "Where, where, where (Back up, back up, and wine am, girl)\n",
            "Where, where, where, where\n",
            "'Cause if you're down (Back up, back up, and–)\n",
            "'Cause if you're down (Back up, back up, and–)\n",
            "'Cause if you're down (Back up, back up, and–)\n",
            "\n",
            "I need a one dance (Where, where, where)\n",
            "Got a Hennessy in my hand (Where, where, where, where)\n",
            "One more time 'fore I go (Where)\n",
            "Higher powers taking a hold on me (Where, where, where, where)\n",
            "I need a one dance\n",
            "Got a Hennessy in my hand\n",
            "One more time 'fore I go\n",
            "Higher powers taking a hold on me\n",
            "How do you spell \"Hennessy?\"\n",
            "I put two \"N\"s and two \"S\"es, is it like that? Hen... Henn... Henn...\n",
            "It's definitely not showing up\n",
            "I know \"Hennessy\" has two \"S\"es for sure, so I'm gonna take out one of the \"N\"s234Embed\n",
            "Cleaned: baby i like your style grips on your waist front way back way you know that i dont play streets not safe but i never run away even when im away oti oti theres never much love when we go ot i pray to make it back in one piece i pray i pray thats why i need a one dance got a hennessy in my hand one more timefore i go higher powers taking a hold on me i need a one dance got a hennessy in my hand one more timefore i go higher powers taking a hold on me baby i like your style you might also like strength and guidance all that im wishing for my friends nobody makes it from my ends i had to bust up the silence you know you gotta stick by me soon as you see the text reply me i dont wanna spend time fighting weve got no time and thats why i need a one dance got a hennessy in my hand one more timefore i go higher powers taking a hold on me i need a one dance got a hennessy in my hand one more timefore i go higher powers taking a hold on me got a pretty girl and she love me long time wine it wine it she love me long time oh yeah very long time back up back up back up and wine am back up back up and wine am girl just back up back up back up and wine am oh yeah very long time back up back up and wine am girl oh tell me i need to know where do you wanna go cause if youre down ill take it slow make you lose control where where where where where where where oh yeah very long time where where where back up back up and wine am girl where where where wherecause if youre down back up back up and cause if youre down back up back up and cause if youre down back up back up and i need a one dance where where where got a hennessy in my hand where where where where one more timefore i go where higher powers taking a hold on me where where where where i need a one dance got a hennessy in my hand one more timefore i go higher powers taking a hold on me how do you spell hennessy i put two n s and two s es is it like that hen henn henn its definitely not showing up i know hennessy has two s es for sure so im gonna take out one of the n s\n",
            "--------------------------------------------------\n",
            "Song: One Dance (Year: 2016, Rank: 3)\n",
            "Original: Baby, I like your style\n",
            "\n",
            "Grips on your waist, front way, back way\n",
            "You know that I don't play\n",
            "Streets not safe but I never run away\n",
            "Even when I'm away\n",
            "Oti, oti\n",
            "There's never much love when we go OT\n",
            "I pray to make it back in one piece\n",
            "I pray, I pray\n",
            "\n",
            "That's why I need a one dance\n",
            "Got a Hennessy in my hand\n",
            "One more time 'fore I go\n",
            "Higher powers taking a hold on me\n",
            "I need a one dance\n",
            "Got a Hennessy in my hand\n",
            "One more time 'fore I go\n",
            "Higher powers taking a hold on me\n",
            "Baby, I like your style\n",
            "You might also like\n",
            "Strength and guidance\n",
            "All that I'm wishing for my friends\n",
            "Nobody makes it from my ends\n",
            "I had to bust up the silence\n",
            "You know you gotta stick by me\n",
            "Soon as you see the text, reply me\n",
            "I don't wanna spend time fighting\n",
            "We've got no time, and that's why\n",
            "\n",
            "I need a one dance\n",
            "Got a Hennessy in my hand\n",
            "One more time 'fore I go\n",
            "Higher powers taking a hold on me\n",
            "I need a one dance\n",
            "Got a Hennessy in my hand\n",
            "One more time 'fore I go\n",
            "Higher powers taking a hold on me\n",
            "\n",
            "Got a pretty girl and she love me long time\n",
            "Wine it, wine it, she love me long time\n",
            "Oh, yeah, very long time\n",
            "Back up, back up, back up, and wine am\n",
            "Back up, back up, and wine am, girl, just\n",
            "Back up, back up, back up, and wine am\n",
            "Oh, yeah, very long time\n",
            "Back, up, back up and wine am, girl\n",
            "Oh, tell me, I need to know\n",
            "Where do you wanna go?\n",
            "'Cause if you're down, I'll take it slow\n",
            "Make you lose control\n",
            "\n",
            "Where, where, where\n",
            "Where, where, where, where (Oh, yeah, very long time)\n",
            "Where, where, where (Back up, back up, and wine am, girl)\n",
            "Where, where, where, where\n",
            "'Cause if you're down (Back up, back up, and–)\n",
            "'Cause if you're down (Back up, back up, and–)\n",
            "'Cause if you're down (Back up, back up, and–)\n",
            "\n",
            "I need a one dance (Where, where, where)\n",
            "Got a Hennessy in my hand (Where, where, where, where)\n",
            "One more time 'fore I go (Where)\n",
            "Higher powers taking a hold on me (Where, where, where, where)\n",
            "I need a one dance\n",
            "Got a Hennessy in my hand\n",
            "One more time 'fore I go\n",
            "Higher powers taking a hold on me\n",
            "How do you spell \"Hennessy?\"\n",
            "I put two \"N\"s and two \"S\"es, is it like that? Hen... Henn... Henn...\n",
            "It's definitely not showing up\n",
            "I know \"Hennessy\" has two \"S\"es for sure, so I'm gonna take out one of the \"N\"s234Embed\n",
            "Cleaned: baby i like your style grips on your waist front way back way you know that i dont play streets not safe but i never run away even when im away oti oti theres never much love when we go ot i pray to make it back in one piece i pray i pray thats why i need a one dance got a hennessy in my hand one more timefore i go higher powers taking a hold on me i need a one dance got a hennessy in my hand one more timefore i go higher powers taking a hold on me baby i like your style you might also like strength and guidance all that im wishing for my friends nobody makes it from my ends i had to bust up the silence you know you gotta stick by me soon as you see the text reply me i dont wanna spend time fighting weve got no time and thats why i need a one dance got a hennessy in my hand one more timefore i go higher powers taking a hold on me i need a one dance got a hennessy in my hand one more timefore i go higher powers taking a hold on me got a pretty girl and she love me long time wine it wine it she love me long time oh yeah very long time back up back up back up and wine am back up back up and wine am girl just back up back up back up and wine am oh yeah very long time back up back up and wine am girl oh tell me i need to know where do you wanna go cause if youre down ill take it slow make you lose control where where where where where where where oh yeah very long time where where where back up back up and wine am girl where where where wherecause if youre down back up back up and cause if youre down back up back up and cause if youre down back up back up and i need a one dance where where where got a hennessy in my hand where where where where one more timefore i go where higher powers taking a hold on me where where where where i need a one dance got a hennessy in my hand one more timefore i go higher powers taking a hold on me how do you spell hennessy i put two n s and two s es is it like that hen henn henn its definitely not showing up i know hennessy has two s es for sure so im gonna take out one of the n s\n",
            "--------------------------------------------------\n"
          ]
        }
      ]
    },
    {
      "cell_type": "markdown",
      "source": [
        "Save the combined cleaned data to a new CSV file"
      ],
      "metadata": {
        "id": "L-DuHoigU5YN"
      }
    },
    {
      "cell_type": "code",
      "source": [
        "df_combined.to_csv('billboard_1964_2024_lyrics_cleaned.csv', index=False)\n",
        "print(\"Combined cleaned data saved to 'billboard_1964_2024_lyrics_cleaned.csv'\")\n",
        "print(f\"Number of unique records: {len(df_combined)}\")"
      ],
      "metadata": {
        "colab": {
          "base_uri": "https://localhost:8080/"
        },
        "id": "pl7z-1IaU5wp",
        "outputId": "46e05c41-18e4-4816-b3af-04bec7680d78"
      },
      "execution_count": 13,
      "outputs": [
        {
          "output_type": "stream",
          "name": "stdout",
          "text": [
            "Combined cleaned data saved to 'billboard_1964_2024_lyrics_cleaned.csv'\n",
            "Number of unique records: 6280\n"
          ]
        }
      ]
    }
  ]
}